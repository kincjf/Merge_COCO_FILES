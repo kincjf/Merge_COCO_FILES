{
 "cells": [
  {
   "cell_type": "code",
   "execution_count": 6,
   "metadata": {
    "ExecuteTime": {
     "end_time": "2023-02-16T00:20:49.004404Z",
     "start_time": "2023-02-16T00:20:41.552340Z"
    }
   },
   "outputs": [
    {
     "name": "stdout",
     "output_type": "stream",
     "text": [
      "Requirement already satisfied: fiftyone in /opt/conda/lib/python3.8/site-packages (0.19.1)\n",
      "Requirement already satisfied: dacite<1.8.0,>=1.6.0 in /opt/conda/lib/python3.8/site-packages (from fiftyone) (1.7.0)\n",
      "Requirement already satisfied: fiftyone-db<0.5,>=0.4 in /opt/conda/lib/python3.8/site-packages (from fiftyone) (0.4.0)\n",
      "Requirement already satisfied: opencv-python-headless in /opt/conda/lib/python3.8/site-packages (from fiftyone) (4.5.1.48)\n",
      "Requirement already satisfied: fiftyone-brain<0.11,>=0.10 in /opt/conda/lib/python3.8/site-packages (from fiftyone) (0.10.0)\n",
      "Requirement already satisfied: starlette==0.20.4 in /opt/conda/lib/python3.8/site-packages (from fiftyone) (0.20.4)\n",
      "Requirement already satisfied: cachetools in /opt/conda/lib/python3.8/site-packages (from fiftyone) (4.2.2)\n",
      "Requirement already satisfied: matplotlib in /opt/conda/lib/python3.8/site-packages (from fiftyone) (3.4.2)\n",
      "Requirement already satisfied: xmltodict in /opt/conda/lib/python3.8/site-packages (from fiftyone) (0.12.0)\n",
      "Requirement already satisfied: motor>=2.5 in /opt/conda/lib/python3.8/site-packages (from fiftyone) (3.1.1)\n",
      "Requirement already satisfied: aiofiles in /opt/conda/lib/python3.8/site-packages (from fiftyone) (23.1.0)\n",
      "Requirement already satisfied: argcomplete in /opt/conda/lib/python3.8/site-packages (from fiftyone) (1.12.3)\n",
      "Requirement already satisfied: pandas in /opt/conda/lib/python3.8/site-packages (from fiftyone) (1.2.5)\n",
      "Requirement already satisfied: sse-starlette<1,>=0.10.3 in /opt/conda/lib/python3.8/site-packages (from fiftyone) (0.10.3)\n",
      "Requirement already satisfied: psutil in /opt/conda/lib/python3.8/site-packages (from fiftyone) (5.8.0)\n",
      "Requirement already satisfied: setuptools in /opt/conda/lib/python3.8/site-packages (from fiftyone) (49.6.0.post20210108)\n",
      "Requirement already satisfied: scikit-learn in /opt/conda/lib/python3.8/site-packages (from fiftyone) (0.24.2)\n",
      "Requirement already satisfied: plotly>=4.14 in /opt/conda/lib/python3.8/site-packages (from fiftyone) (5.0.0)\n",
      "Requirement already satisfied: boto3 in /opt/conda/lib/python3.8/site-packages (from fiftyone) (1.17.101)\n",
      "Requirement already satisfied: tabulate in /opt/conda/lib/python3.8/site-packages (from fiftyone) (0.8.9)\n",
      "Requirement already satisfied: kaleido in /opt/conda/lib/python3.8/site-packages (from fiftyone) (0.2.1)\n",
      "Requirement already satisfied: voxel51-eta<0.9,>=0.8.3 in /opt/conda/lib/python3.8/site-packages (from fiftyone) (0.8.3)\n",
      "Requirement already satisfied: Jinja2>=3 in /opt/conda/lib/python3.8/site-packages (from fiftyone) (3.0.1)\n",
      "Requirement already satisfied: Pillow>=6.2 in /opt/conda/lib/python3.8/site-packages (from fiftyone) (8.2.0)\n",
      "Requirement already satisfied: PyYAML in /opt/conda/lib/python3.8/site-packages (from fiftyone) (5.4.1)\n",
      "Requirement already satisfied: pymongo>=3.12 in /opt/conda/lib/python3.8/site-packages (from fiftyone) (4.3.3)\n",
      "Requirement already satisfied: mongoengine==0.24.2 in /opt/conda/lib/python3.8/site-packages (from fiftyone) (0.24.2)\n",
      "Requirement already satisfied: scikit-image in /opt/conda/lib/python3.8/site-packages (from fiftyone) (0.18.1)\n",
      "Requirement already satisfied: packaging in /opt/conda/lib/python3.8/site-packages (from fiftyone) (20.9)\n",
      "Requirement already satisfied: strawberry-graphql==0.138.1 in /opt/conda/lib/python3.8/site-packages (from fiftyone) (0.138.1)\n",
      "Requirement already satisfied: Deprecated in /opt/conda/lib/python3.8/site-packages (from fiftyone) (1.2.12)\n",
      "Requirement already satisfied: pprintpp in /opt/conda/lib/python3.8/site-packages (from fiftyone) (0.4.0)\n",
      "Requirement already satisfied: future in /opt/conda/lib/python3.8/site-packages (from fiftyone) (0.18.2)\n",
      "Requirement already satisfied: hypercorn>=0.13.2 in /opt/conda/lib/python3.8/site-packages (from fiftyone) (0.14.3)\n",
      "Requirement already satisfied: eventlet in /opt/conda/lib/python3.8/site-packages (from fiftyone) (0.33.3)\n",
      "Requirement already satisfied: sseclient-py<2,>=1.7.2 in /opt/conda/lib/python3.8/site-packages (from fiftyone) (1.7.2)\n",
      "Requirement already satisfied: universal-analytics-python3<2,>=1.0.1 in /opt/conda/lib/python3.8/site-packages (from fiftyone) (1.1.1)\n",
      "Requirement already satisfied: numpy in /opt/conda/lib/python3.8/site-packages (from fiftyone) (1.19.5)\n",
      "Requirement already satisfied: ndjson in /opt/conda/lib/python3.8/site-packages (from fiftyone) (0.3.1)\n",
      "Requirement already satisfied: retrying in /opt/conda/lib/python3.8/site-packages (from fiftyone) (1.3.4)\n",
      "Requirement already satisfied: pytz in /opt/conda/lib/python3.8/site-packages (from fiftyone) (2021.1)\n",
      "Requirement already satisfied: typing-extensions>=3.10.0 in /opt/conda/lib/python3.8/site-packages (from starlette==0.20.4->fiftyone) (4.5.0)\n",
      "Requirement already satisfied: anyio<5,>=3.4.0 in /opt/conda/lib/python3.8/site-packages (from starlette==0.20.4->fiftyone) (3.6.2)\n",
      "Requirement already satisfied: python-dateutil<3.0.0,>=2.7.0 in /opt/conda/lib/python3.8/site-packages (from strawberry-graphql==0.138.1->fiftyone) (2.8.1)\n",
      "Requirement already satisfied: graphql-core<3.3.0,>=3.2.0 in /opt/conda/lib/python3.8/site-packages (from strawberry-graphql==0.138.1->fiftyone) (3.2.3)\n",
      "Requirement already satisfied: idna>=2.8 in /opt/conda/lib/python3.8/site-packages (from anyio<5,>=3.4.0->starlette==0.20.4->fiftyone) (2.10)\n",
      "Requirement already satisfied: sniffio>=1.1 in /opt/conda/lib/python3.8/site-packages (from anyio<5,>=3.4.0->starlette==0.20.4->fiftyone) (1.2.0)\n",
      "Requirement already satisfied: scipy>=1.2.0 in /opt/conda/lib/python3.8/site-packages (from fiftyone-brain<0.11,>=0.10->fiftyone) (1.7.0)\n",
      "Requirement already satisfied: priority in /opt/conda/lib/python3.8/site-packages (from hypercorn>=0.13.2->fiftyone) (1.3.0)\n",
      "Requirement already satisfied: h2>=3.1.0 in /opt/conda/lib/python3.8/site-packages (from hypercorn>=0.13.2->fiftyone) (3.2.0)\n",
      "Requirement already satisfied: h11 in /opt/conda/lib/python3.8/site-packages (from hypercorn>=0.13.2->fiftyone) (0.14.0)\n",
      "Requirement already satisfied: wsproto>=0.14.0 in /opt/conda/lib/python3.8/site-packages (from hypercorn>=0.13.2->fiftyone) (1.2.0)\n",
      "Requirement already satisfied: toml in /opt/conda/lib/python3.8/site-packages (from hypercorn>=0.13.2->fiftyone) (0.10.2)\n",
      "Requirement already satisfied: hpack<4,>=3.0 in /opt/conda/lib/python3.8/site-packages (from h2>=3.1.0->hypercorn>=0.13.2->fiftyone) (3.0.0)\n",
      "Requirement already satisfied: hyperframe<6,>=5.2.0 in /opt/conda/lib/python3.8/site-packages (from h2>=3.1.0->hypercorn>=0.13.2->fiftyone) (5.2.0)\n",
      "Requirement already satisfied: MarkupSafe>=2.0 in /opt/conda/lib/python3.8/site-packages (from Jinja2>=3->fiftyone) (2.0.1)\n",
      "Requirement already satisfied: six in /opt/conda/lib/python3.8/site-packages (from plotly>=4.14->fiftyone) (1.15.0)\n",
      "Requirement already satisfied: tenacity>=6.2.0 in /opt/conda/lib/python3.8/site-packages (from plotly>=4.14->fiftyone) (6.3.1)\n",
      "Requirement already satisfied: dnspython<3.0.0,>=1.16.0 in /opt/conda/lib/python3.8/site-packages (from pymongo>=3.12->fiftyone) (2.3.0)\n",
      "Requirement already satisfied: httpx>=0.10.0 in /opt/conda/lib/python3.8/site-packages (from universal-analytics-python3<2,>=1.0.1->fiftyone) (0.23.3)\n",
      "Requirement already satisfied: rfc3986[idna2008]<2,>=1.3 in /opt/conda/lib/python3.8/site-packages (from httpx>=0.10.0->universal-analytics-python3<2,>=1.0.1->fiftyone) (1.5.0)\n",
      "Requirement already satisfied: httpcore<0.17.0,>=0.15.0 in /opt/conda/lib/python3.8/site-packages (from httpx>=0.10.0->universal-analytics-python3<2,>=1.0.1->fiftyone) (0.16.3)\n",
      "Requirement already satisfied: certifi in /opt/conda/lib/python3.8/site-packages (from httpx>=0.10.0->universal-analytics-python3<2,>=1.0.1->fiftyone) (2021.5.30)\n",
      "Requirement already satisfied: tzlocal in /opt/conda/lib/python3.8/site-packages (from voxel51-eta<0.9,>=0.8.3->fiftyone) (2.1)\n",
      "Requirement already satisfied: patool in /opt/conda/lib/python3.8/site-packages (from voxel51-eta<0.9,>=0.8.3->fiftyone) (1.12)\n",
      "Requirement already satisfied: sortedcontainers in /opt/conda/lib/python3.8/site-packages (from voxel51-eta<0.9,>=0.8.3->fiftyone) (2.4.0)\n",
      "Requirement already satisfied: glob2 in /opt/conda/lib/python3.8/site-packages (from voxel51-eta<0.9,>=0.8.3->fiftyone) (0.7)\n",
      "Requirement already satisfied: requests in /opt/conda/lib/python3.8/site-packages (from voxel51-eta<0.9,>=0.8.3->fiftyone) (2.25.1)\n",
      "Requirement already satisfied: dill in /opt/conda/lib/python3.8/site-packages (from voxel51-eta<0.9,>=0.8.3->fiftyone) (0.3.4)\n",
      "Requirement already satisfied: urllib3 in /opt/conda/lib/python3.8/site-packages (from voxel51-eta<0.9,>=0.8.3->fiftyone) (1.26.6)\n",
      "Requirement already satisfied: s3transfer<0.5.0,>=0.4.0 in /opt/conda/lib/python3.8/site-packages (from boto3->fiftyone) (0.4.2)\n",
      "Requirement already satisfied: botocore<1.21.0,>=1.20.101 in /opt/conda/lib/python3.8/site-packages (from boto3->fiftyone) (1.20.110)\n",
      "Requirement already satisfied: jmespath<1.0.0,>=0.7.1 in /opt/conda/lib/python3.8/site-packages (from boto3->fiftyone) (0.10.0)\n",
      "Requirement already satisfied: wrapt<2,>=1.10 in /opt/conda/lib/python3.8/site-packages (from Deprecated->fiftyone) (1.12.1)\n",
      "Requirement already satisfied: greenlet>=0.3 in /opt/conda/lib/python3.8/site-packages (from eventlet->fiftyone) (1.1.0)\n",
      "Requirement already satisfied: pyparsing>=2.2.1 in /opt/conda/lib/python3.8/site-packages (from matplotlib->fiftyone) (2.4.7)\n",
      "Requirement already satisfied: kiwisolver>=1.0.1 in /opt/conda/lib/python3.8/site-packages (from matplotlib->fiftyone) (1.3.1)\n",
      "Requirement already satisfied: cycler>=0.10 in /opt/conda/lib/python3.8/site-packages (from matplotlib->fiftyone) (0.10.0)\n",
      "Requirement already satisfied: chardet<5,>=3.0.2 in /opt/conda/lib/python3.8/site-packages (from requests->voxel51-eta<0.9,>=0.8.3->fiftyone) (4.0.0)\n",
      "Requirement already satisfied: PyWavelets>=1.1.1 in /opt/conda/lib/python3.8/site-packages (from scikit-image->fiftyone) (1.1.1)\n",
      "Requirement already satisfied: networkx>=2.0 in /opt/conda/lib/python3.8/site-packages (from scikit-image->fiftyone) (2.5.1)\n",
      "Requirement already satisfied: imageio>=2.3.0 in /opt/conda/lib/python3.8/site-packages (from scikit-image->fiftyone) (2.9.0)\n",
      "Requirement already satisfied: tifffile>=2019.7.26 in /opt/conda/lib/python3.8/site-packages (from scikit-image->fiftyone) (2021.7.2)\n",
      "Requirement already satisfied: decorator<5,>=4.3 in /opt/conda/lib/python3.8/site-packages (from networkx>=2.0->scikit-image->fiftyone) (4.4.2)\n",
      "Requirement already satisfied: joblib>=0.11 in /opt/conda/lib/python3.8/site-packages (from scikit-learn->fiftyone) (1.0.1)\n",
      "Requirement already satisfied: threadpoolctl>=2.0.0 in /opt/conda/lib/python3.8/site-packages (from scikit-learn->fiftyone) (2.2.0)\n",
      "\u001b[33mWARNING: Running pip as the 'root' user can result in broken permissions and conflicting behaviour with the system package manager. It is recommended to use a virtual environment instead: https://pip.pypa.io/warnings/venv\u001b[0m\n"
     ]
    }
   ],
   "source": [
    "## https://docs.voxel51.com/tutorials/open_images.html#Loading-Open-Images\n",
    "!pip install fiftyone"
   ]
  },
  {
   "cell_type": "code",
   "execution_count": 8,
   "metadata": {},
   "outputs": [
    {
     "ename": "ConnectionError",
     "evalue": "Could not connect to `mongod`",
     "output_type": "error",
     "traceback": [
      "\u001b[0;31m---------------------------------------------------------------------------\u001b[0m",
      "\u001b[0;31mServerSelectionTimeoutError\u001b[0m               Traceback (most recent call last)",
      "\u001b[0;32m~/.local/lib/python3.10/site-packages/fiftyone/core/odm/database.py\u001b[0m in \u001b[0;36m_validate_db_version\u001b[0;34m(config, client)\u001b[0m\n\u001b[1;32m    285\u001b[0m     \u001b[0;32mtry\u001b[0m\u001b[0;34m:\u001b[0m\u001b[0;34m\u001b[0m\u001b[0;34m\u001b[0m\u001b[0m\n\u001b[0;32m--> 286\u001b[0;31m         \u001b[0mversion\u001b[0m \u001b[0;34m=\u001b[0m \u001b[0mVersion\u001b[0m\u001b[0;34m(\u001b[0m\u001b[0mclient\u001b[0m\u001b[0;34m.\u001b[0m\u001b[0mserver_info\u001b[0m\u001b[0;34m(\u001b[0m\u001b[0;34m)\u001b[0m\u001b[0;34m[\u001b[0m\u001b[0;34m\"version\"\u001b[0m\u001b[0;34m]\u001b[0m\u001b[0;34m)\u001b[0m\u001b[0;34m\u001b[0m\u001b[0;34m\u001b[0m\u001b[0m\n\u001b[0m\u001b[1;32m    287\u001b[0m     \u001b[0;32mexcept\u001b[0m \u001b[0mException\u001b[0m \u001b[0;32mas\u001b[0m \u001b[0me\u001b[0m\u001b[0;34m:\u001b[0m\u001b[0;34m\u001b[0m\u001b[0;34m\u001b[0m\u001b[0m\n",
      "\u001b[0;32m~/.local/lib/python3.10/site-packages/pymongo/mongo_client.py\u001b[0m in \u001b[0;36mserver_info\u001b[0;34m(self, session)\u001b[0m\n\u001b[1;32m   1804\u001b[0m             \u001b[0mdict\u001b[0m\u001b[0;34m,\u001b[0m\u001b[0;34m\u001b[0m\u001b[0;34m\u001b[0m\u001b[0m\n\u001b[0;32m-> 1805\u001b[0;31m             self.admin.command(\n\u001b[0m\u001b[1;32m   1806\u001b[0m                 \u001b[0;34m\"buildinfo\"\u001b[0m\u001b[0;34m,\u001b[0m \u001b[0mread_preference\u001b[0m\u001b[0;34m=\u001b[0m\u001b[0mReadPreference\u001b[0m\u001b[0;34m.\u001b[0m\u001b[0mPRIMARY\u001b[0m\u001b[0;34m,\u001b[0m \u001b[0msession\u001b[0m\u001b[0;34m=\u001b[0m\u001b[0msession\u001b[0m\u001b[0;34m\u001b[0m\u001b[0;34m\u001b[0m\u001b[0m\n",
      "\u001b[0;32m~/.local/lib/python3.10/site-packages/pymongo/_csot.py\u001b[0m in \u001b[0;36mcsot_wrapper\u001b[0;34m(self, *args, **kwargs)\u001b[0m\n\u001b[1;32m    104\u001b[0m                     \u001b[0;32mreturn\u001b[0m \u001b[0mfunc\u001b[0m\u001b[0;34m(\u001b[0m\u001b[0mself\u001b[0m\u001b[0;34m,\u001b[0m \u001b[0;34m*\u001b[0m\u001b[0margs\u001b[0m\u001b[0;34m,\u001b[0m \u001b[0;34m**\u001b[0m\u001b[0mkwargs\u001b[0m\u001b[0;34m)\u001b[0m\u001b[0;34m\u001b[0m\u001b[0;34m\u001b[0m\u001b[0m\n\u001b[0;32m--> 105\u001b[0;31m         \u001b[0;32mreturn\u001b[0m \u001b[0mfunc\u001b[0m\u001b[0;34m(\u001b[0m\u001b[0mself\u001b[0m\u001b[0;34m,\u001b[0m \u001b[0;34m*\u001b[0m\u001b[0margs\u001b[0m\u001b[0;34m,\u001b[0m \u001b[0;34m**\u001b[0m\u001b[0mkwargs\u001b[0m\u001b[0;34m)\u001b[0m\u001b[0;34m\u001b[0m\u001b[0;34m\u001b[0m\u001b[0m\n\u001b[0m\u001b[1;32m    106\u001b[0m \u001b[0;34m\u001b[0m\u001b[0m\n",
      "\u001b[0;32m~/.local/lib/python3.10/site-packages/pymongo/database.py\u001b[0m in \u001b[0;36mcommand\u001b[0;34m(self, command, value, check, allowable_errors, read_preference, codec_options, session, comment, **kwargs)\u001b[0m\n\u001b[1;32m    804\u001b[0m             \u001b[0mread_preference\u001b[0m \u001b[0;34m=\u001b[0m \u001b[0;34m(\u001b[0m\u001b[0msession\u001b[0m \u001b[0;32mand\u001b[0m \u001b[0msession\u001b[0m\u001b[0;34m.\u001b[0m\u001b[0m_txn_read_preference\u001b[0m\u001b[0;34m(\u001b[0m\u001b[0;34m)\u001b[0m\u001b[0;34m)\u001b[0m \u001b[0;32mor\u001b[0m \u001b[0mReadPreference\u001b[0m\u001b[0;34m.\u001b[0m\u001b[0mPRIMARY\u001b[0m\u001b[0;34m\u001b[0m\u001b[0;34m\u001b[0m\u001b[0m\n\u001b[0;32m--> 805\u001b[0;31m         with self.__client._socket_for_reads(read_preference, session) as (\n\u001b[0m\u001b[1;32m    806\u001b[0m             \u001b[0msock_info\u001b[0m\u001b[0;34m,\u001b[0m\u001b[0;34m\u001b[0m\u001b[0;34m\u001b[0m\u001b[0m\n",
      "\u001b[0;32m~/.local/lib/python3.10/site-packages/pymongo/mongo_client.py\u001b[0m in \u001b[0;36m_socket_for_reads\u001b[0;34m(self, read_preference, session)\u001b[0m\n\u001b[1;32m   1295\u001b[0m         \u001b[0m_\u001b[0m \u001b[0;34m=\u001b[0m \u001b[0mself\u001b[0m\u001b[0;34m.\u001b[0m\u001b[0m_get_topology\u001b[0m\u001b[0;34m(\u001b[0m\u001b[0;34m)\u001b[0m\u001b[0;34m\u001b[0m\u001b[0;34m\u001b[0m\u001b[0m\n\u001b[0;32m-> 1296\u001b[0;31m         \u001b[0mserver\u001b[0m \u001b[0;34m=\u001b[0m \u001b[0mself\u001b[0m\u001b[0;34m.\u001b[0m\u001b[0m_select_server\u001b[0m\u001b[0;34m(\u001b[0m\u001b[0mread_preference\u001b[0m\u001b[0;34m,\u001b[0m \u001b[0msession\u001b[0m\u001b[0;34m)\u001b[0m\u001b[0;34m\u001b[0m\u001b[0;34m\u001b[0m\u001b[0m\n\u001b[0m\u001b[1;32m   1297\u001b[0m         \u001b[0;32mreturn\u001b[0m \u001b[0mself\u001b[0m\u001b[0;34m.\u001b[0m\u001b[0m_socket_from_server\u001b[0m\u001b[0;34m(\u001b[0m\u001b[0mread_preference\u001b[0m\u001b[0;34m,\u001b[0m \u001b[0mserver\u001b[0m\u001b[0;34m,\u001b[0m \u001b[0msession\u001b[0m\u001b[0;34m)\u001b[0m\u001b[0;34m\u001b[0m\u001b[0;34m\u001b[0m\u001b[0m\n",
      "\u001b[0;32m~/.local/lib/python3.10/site-packages/pymongo/mongo_client.py\u001b[0m in \u001b[0;36m_select_server\u001b[0;34m(self, server_selector, session, address)\u001b[0m\n\u001b[1;32m   1256\u001b[0m             \u001b[0;32melse\u001b[0m\u001b[0;34m:\u001b[0m\u001b[0;34m\u001b[0m\u001b[0;34m\u001b[0m\u001b[0m\n\u001b[0;32m-> 1257\u001b[0;31m                 \u001b[0mserver\u001b[0m \u001b[0;34m=\u001b[0m \u001b[0mtopology\u001b[0m\u001b[0;34m.\u001b[0m\u001b[0mselect_server\u001b[0m\u001b[0;34m(\u001b[0m\u001b[0mserver_selector\u001b[0m\u001b[0;34m)\u001b[0m\u001b[0;34m\u001b[0m\u001b[0;34m\u001b[0m\u001b[0m\n\u001b[0m\u001b[1;32m   1258\u001b[0m             \u001b[0;32mreturn\u001b[0m \u001b[0mserver\u001b[0m\u001b[0;34m\u001b[0m\u001b[0;34m\u001b[0m\u001b[0m\n",
      "\u001b[0;32m~/.local/lib/python3.10/site-packages/pymongo/topology.py\u001b[0m in \u001b[0;36mselect_server\u001b[0;34m(self, selector, server_selection_timeout, address)\u001b[0m\n\u001b[1;32m    271\u001b[0m         \u001b[0;34m\"\"\"Like select_servers, but choose a random server if several match.\"\"\"\u001b[0m\u001b[0;34m\u001b[0m\u001b[0;34m\u001b[0m\u001b[0m\n\u001b[0;32m--> 272\u001b[0;31m         \u001b[0mserver\u001b[0m \u001b[0;34m=\u001b[0m \u001b[0mself\u001b[0m\u001b[0;34m.\u001b[0m\u001b[0m_select_server\u001b[0m\u001b[0;34m(\u001b[0m\u001b[0mselector\u001b[0m\u001b[0;34m,\u001b[0m \u001b[0mserver_selection_timeout\u001b[0m\u001b[0;34m,\u001b[0m \u001b[0maddress\u001b[0m\u001b[0;34m)\u001b[0m\u001b[0;34m\u001b[0m\u001b[0;34m\u001b[0m\u001b[0m\n\u001b[0m\u001b[1;32m    273\u001b[0m         \u001b[0;32mif\u001b[0m \u001b[0m_csot\u001b[0m\u001b[0;34m.\u001b[0m\u001b[0mget_timeout\u001b[0m\u001b[0;34m(\u001b[0m\u001b[0;34m)\u001b[0m\u001b[0;34m:\u001b[0m\u001b[0;34m\u001b[0m\u001b[0;34m\u001b[0m\u001b[0m\n",
      "\u001b[0;32m~/.local/lib/python3.10/site-packages/pymongo/topology.py\u001b[0m in \u001b[0;36m_select_server\u001b[0;34m(self, selector, server_selection_timeout, address)\u001b[0m\n\u001b[1;32m    260\u001b[0m     \u001b[0;32mdef\u001b[0m \u001b[0m_select_server\u001b[0m\u001b[0;34m(\u001b[0m\u001b[0mself\u001b[0m\u001b[0;34m,\u001b[0m \u001b[0mselector\u001b[0m\u001b[0;34m,\u001b[0m \u001b[0mserver_selection_timeout\u001b[0m\u001b[0;34m=\u001b[0m\u001b[0;32mNone\u001b[0m\u001b[0;34m,\u001b[0m \u001b[0maddress\u001b[0m\u001b[0;34m=\u001b[0m\u001b[0;32mNone\u001b[0m\u001b[0;34m)\u001b[0m\u001b[0;34m:\u001b[0m\u001b[0;34m\u001b[0m\u001b[0;34m\u001b[0m\u001b[0m\n\u001b[0;32m--> 261\u001b[0;31m         \u001b[0mservers\u001b[0m \u001b[0;34m=\u001b[0m \u001b[0mself\u001b[0m\u001b[0;34m.\u001b[0m\u001b[0mselect_servers\u001b[0m\u001b[0;34m(\u001b[0m\u001b[0mselector\u001b[0m\u001b[0;34m,\u001b[0m \u001b[0mserver_selection_timeout\u001b[0m\u001b[0;34m,\u001b[0m \u001b[0maddress\u001b[0m\u001b[0;34m)\u001b[0m\u001b[0;34m\u001b[0m\u001b[0;34m\u001b[0m\u001b[0m\n\u001b[0m\u001b[1;32m    262\u001b[0m         \u001b[0;32mif\u001b[0m \u001b[0mlen\u001b[0m\u001b[0;34m(\u001b[0m\u001b[0mservers\u001b[0m\u001b[0;34m)\u001b[0m \u001b[0;34m==\u001b[0m \u001b[0;36m1\u001b[0m\u001b[0;34m:\u001b[0m\u001b[0;34m\u001b[0m\u001b[0;34m\u001b[0m\u001b[0m\n",
      "\u001b[0;32m~/.local/lib/python3.10/site-packages/pymongo/topology.py\u001b[0m in \u001b[0;36mselect_servers\u001b[0;34m(self, selector, server_selection_timeout, address)\u001b[0m\n\u001b[1;32m    222\u001b[0m         \u001b[0;32mwith\u001b[0m \u001b[0mself\u001b[0m\u001b[0;34m.\u001b[0m\u001b[0m_lock\u001b[0m\u001b[0;34m:\u001b[0m\u001b[0;34m\u001b[0m\u001b[0;34m\u001b[0m\u001b[0m\n\u001b[0;32m--> 223\u001b[0;31m             \u001b[0mserver_descriptions\u001b[0m \u001b[0;34m=\u001b[0m \u001b[0mself\u001b[0m\u001b[0;34m.\u001b[0m\u001b[0m_select_servers_loop\u001b[0m\u001b[0;34m(\u001b[0m\u001b[0mselector\u001b[0m\u001b[0;34m,\u001b[0m \u001b[0mserver_timeout\u001b[0m\u001b[0;34m,\u001b[0m \u001b[0maddress\u001b[0m\u001b[0;34m)\u001b[0m\u001b[0;34m\u001b[0m\u001b[0;34m\u001b[0m\u001b[0m\n\u001b[0m\u001b[1;32m    224\u001b[0m \u001b[0;34m\u001b[0m\u001b[0m\n",
      "\u001b[0;32m~/.local/lib/python3.10/site-packages/pymongo/topology.py\u001b[0m in \u001b[0;36m_select_servers_loop\u001b[0;34m(self, selector, timeout, address)\u001b[0m\n\u001b[1;32m    237\u001b[0m             \u001b[0;32mif\u001b[0m \u001b[0mtimeout\u001b[0m \u001b[0;34m==\u001b[0m \u001b[0;36m0\u001b[0m \u001b[0;32mor\u001b[0m \u001b[0mnow\u001b[0m \u001b[0;34m>\u001b[0m \u001b[0mend_time\u001b[0m\u001b[0;34m:\u001b[0m\u001b[0;34m\u001b[0m\u001b[0;34m\u001b[0m\u001b[0m\n\u001b[0;32m--> 238\u001b[0;31m                 raise ServerSelectionTimeoutError(\n\u001b[0m\u001b[1;32m    239\u001b[0m                     \u001b[0;34m\"%s, Timeout: %ss, Topology Description: %r\"\u001b[0m\u001b[0;34m\u001b[0m\u001b[0;34m\u001b[0m\u001b[0m\n",
      "\u001b[0;31mServerSelectionTimeoutError\u001b[0m: localhost:27017: [Errno 111] Connection refused, Timeout: 30s, Topology Description: <TopologyDescription id: 63ed40fbdabcfd8698c5d1b2, topology_type: Unknown, servers: [<ServerDescription ('localhost', 27017) server_type: Unknown, rtt: None, error=AutoReconnect('localhost:27017: [Errno 111] Connection refused')>]>",
      "\nThe above exception was the direct cause of the following exception:\n",
      "\u001b[0;31mConnectionError\u001b[0m                           Traceback (most recent call last)",
      "\u001b[0;32m/tmp/ipykernel_798522/3083674146.py\u001b[0m in \u001b[0;36m<module>\u001b[0;34m\u001b[0m\n\u001b[1;32m      1\u001b[0m \u001b[0;31m# import fiftyone as fo\u001b[0m\u001b[0;34m\u001b[0m\u001b[0;34m\u001b[0m\u001b[0m\n\u001b[0;32m----> 2\u001b[0;31m \u001b[0;32mimport\u001b[0m \u001b[0mfiftyone\u001b[0m\u001b[0;34m.\u001b[0m\u001b[0mzoo\u001b[0m \u001b[0;32mas\u001b[0m \u001b[0mfoz\u001b[0m\u001b[0;34m\u001b[0m\u001b[0;34m\u001b[0m\u001b[0m\n\u001b[0m\u001b[1;32m      3\u001b[0m \u001b[0;34m\u001b[0m\u001b[0m\n\u001b[1;32m      4\u001b[0m dataset = foz.load_zoo_dataset(\n\u001b[1;32m      5\u001b[0m     \u001b[0;34m\"open-images-v7\"\u001b[0m\u001b[0;34m,\u001b[0m\u001b[0;34m\u001b[0m\u001b[0;34m\u001b[0m\u001b[0m\n",
      "\u001b[0;32m~/.local/lib/python3.10/site-packages/fiftyone/__init__.py\u001b[0m in \u001b[0;36m<module>\u001b[0;34m\u001b[0m\n\u001b[1;32m     23\u001b[0m \u001b[0m__version__\u001b[0m \u001b[0;34m=\u001b[0m \u001b[0m_foc\u001b[0m\u001b[0;34m.\u001b[0m\u001b[0mVERSION\u001b[0m\u001b[0;34m\u001b[0m\u001b[0;34m\u001b[0m\u001b[0m\n\u001b[1;32m     24\u001b[0m \u001b[0;34m\u001b[0m\u001b[0m\n\u001b[0;32m---> 25\u001b[0;31m \u001b[0;32mfrom\u001b[0m \u001b[0mfiftyone\u001b[0m\u001b[0;34m.\u001b[0m\u001b[0m__public__\u001b[0m \u001b[0;32mimport\u001b[0m \u001b[0;34m*\u001b[0m\u001b[0;34m\u001b[0m\u001b[0;34m\u001b[0m\u001b[0m\n\u001b[0m\u001b[1;32m     26\u001b[0m \u001b[0;34m\u001b[0m\u001b[0m\n\u001b[1;32m     27\u001b[0m \u001b[0;32mimport\u001b[0m \u001b[0mfiftyone\u001b[0m\u001b[0;34m.\u001b[0m\u001b[0mcore\u001b[0m\u001b[0;34m.\u001b[0m\u001b[0muid\u001b[0m \u001b[0;32mas\u001b[0m \u001b[0m_fou\u001b[0m\u001b[0;34m\u001b[0m\u001b[0;34m\u001b[0m\u001b[0m\n",
      "\u001b[0;32m~/.local/lib/python3.10/site-packages/fiftyone/__public__.py\u001b[0m in \u001b[0;36m<module>\u001b[0;34m\u001b[0m\n\u001b[1;32m     13\u001b[0m \u001b[0mapp_config\u001b[0m \u001b[0;34m=\u001b[0m \u001b[0m_foc\u001b[0m\u001b[0;34m.\u001b[0m\u001b[0mload_app_config\u001b[0m\u001b[0;34m(\u001b[0m\u001b[0;34m)\u001b[0m\u001b[0;34m\u001b[0m\u001b[0;34m\u001b[0m\u001b[0m\n\u001b[1;32m     14\u001b[0m \u001b[0;34m\u001b[0m\u001b[0m\n\u001b[0;32m---> 15\u001b[0;31m \u001b[0m_foo\u001b[0m\u001b[0;34m.\u001b[0m\u001b[0mestablish_db_conn\u001b[0m\u001b[0;34m(\u001b[0m\u001b[0mconfig\u001b[0m\u001b[0;34m)\u001b[0m\u001b[0;34m\u001b[0m\u001b[0;34m\u001b[0m\u001b[0m\n\u001b[0m\u001b[1;32m     16\u001b[0m \u001b[0;34m\u001b[0m\u001b[0m\n\u001b[1;32m     17\u001b[0m from .core.aggregations import (\n",
      "\u001b[0;32m~/.local/lib/python3.10/site-packages/fiftyone/core/odm/database.py\u001b[0m in \u001b[0;36mestablish_db_conn\u001b[0;34m(config)\u001b[0m\n\u001b[1;32m    212\u001b[0m         \u001b[0;34m**\u001b[0m\u001b[0m_connection_kwargs\u001b[0m\u001b[0;34m,\u001b[0m \u001b[0mappname\u001b[0m\u001b[0;34m=\u001b[0m\u001b[0mfoc\u001b[0m\u001b[0;34m.\u001b[0m\u001b[0mDATABASE_APPNAME\u001b[0m\u001b[0;34m\u001b[0m\u001b[0;34m\u001b[0m\u001b[0m\n\u001b[1;32m    213\u001b[0m     )\n\u001b[0;32m--> 214\u001b[0;31m     \u001b[0m_validate_db_version\u001b[0m\u001b[0;34m(\u001b[0m\u001b[0mconfig\u001b[0m\u001b[0;34m,\u001b[0m \u001b[0m_client\u001b[0m\u001b[0;34m)\u001b[0m\u001b[0;34m\u001b[0m\u001b[0;34m\u001b[0m\u001b[0m\n\u001b[0m\u001b[1;32m    215\u001b[0m \u001b[0;34m\u001b[0m\u001b[0m\n\u001b[1;32m    216\u001b[0m     \u001b[0;31m# Register cleanup method\u001b[0m\u001b[0;34m\u001b[0m\u001b[0;34m\u001b[0m\u001b[0m\n",
      "\u001b[0;32m~/.local/lib/python3.10/site-packages/fiftyone/core/odm/database.py\u001b[0m in \u001b[0;36m_validate_db_version\u001b[0;34m(config, client)\u001b[0m\n\u001b[1;32m    287\u001b[0m     \u001b[0;32mexcept\u001b[0m \u001b[0mException\u001b[0m \u001b[0;32mas\u001b[0m \u001b[0me\u001b[0m\u001b[0;34m:\u001b[0m\u001b[0;34m\u001b[0m\u001b[0;34m\u001b[0m\u001b[0m\n\u001b[1;32m    288\u001b[0m         \u001b[0;32mif\u001b[0m \u001b[0misinstance\u001b[0m\u001b[0;34m(\u001b[0m\u001b[0me\u001b[0m\u001b[0;34m,\u001b[0m \u001b[0mServerSelectionTimeoutError\u001b[0m\u001b[0;34m)\u001b[0m\u001b[0;34m:\u001b[0m\u001b[0;34m\u001b[0m\u001b[0;34m\u001b[0m\u001b[0m\n\u001b[0;32m--> 289\u001b[0;31m             \u001b[0;32mraise\u001b[0m \u001b[0mConnectionError\u001b[0m\u001b[0;34m(\u001b[0m\u001b[0;34m\"Could not connect to `mongod`\"\u001b[0m\u001b[0;34m)\u001b[0m \u001b[0;32mfrom\u001b[0m \u001b[0me\u001b[0m\u001b[0;34m\u001b[0m\u001b[0;34m\u001b[0m\u001b[0m\n\u001b[0m\u001b[1;32m    290\u001b[0m \u001b[0;34m\u001b[0m\u001b[0m\n\u001b[1;32m    291\u001b[0m         \u001b[0;32mraise\u001b[0m \u001b[0mRuntimeError\u001b[0m\u001b[0;34m(\u001b[0m\u001b[0;34m\"Failed to validate `mongod` version\"\u001b[0m\u001b[0;34m)\u001b[0m \u001b[0;32mfrom\u001b[0m \u001b[0me\u001b[0m\u001b[0;34m\u001b[0m\u001b[0;34m\u001b[0m\u001b[0m\n",
      "\u001b[0;31mConnectionError\u001b[0m: Could not connect to `mongod`"
     ]
    }
   ],
   "source": [
    "# import fiftyone as fo\n",
    "# import fiftyone.zoo as foz\n",
    "\n",
    "# dataset = foz.load_zoo_dataset(\n",
    "#     \"open-images-v7\",\n",
    "#     split=\"validation\",\n",
    "#     max_samples=100,\n",
    "#     seed=51,\n",
    "#     shuffle=True,\n",
    "# )"
   ]
  },
  {
   "cell_type": "code",
   "execution_count": 12,
   "metadata": {
    "ExecuteTime": {
     "end_time": "2023-02-16T02:07:39.008928Z",
     "start_time": "2023-02-16T02:07:37.522750Z"
    },
    "scrolled": true
   },
   "outputs": [
    {
     "name": "stdout",
     "output_type": "stream",
     "text": [
      "Downloading split 'validation' to '/root/fiftyone/coco-2017/validation' if necessary\n",
      "Found annotations at '/root/fiftyone/coco-2017/raw/instances_val2017.json'\n",
      "Sufficient images already downloaded\n",
      "Existing download of split 'validation' is sufficient\n",
      "Loading existing dataset 'coco-2017-validation-15'. To reload from disk, either delete the existing dataset or provide a custom `dataset_name` to use\n"
     ]
    },
    {
     "data": {
      "text/html": [
       "\n",
       "        <iframe\n",
       "            width=\"100%\"\n",
       "            height=\"800\"\n",
       "            src=\"http://0.0.0.0:5151/?notebook=True&subscription=ed46907a-1dbc-444a-a54f-c39fcc1d7ea2\"\n",
       "            frameborder=\"0\"\n",
       "            allowfullscreen\n",
       "        ></iframe>\n",
       "        "
      ],
      "text/plain": [
       "<IPython.lib.display.IFrame at 0x7fe928431580>"
      ]
     },
     "metadata": {},
     "output_type": "display_data"
    }
   ],
   "source": [
    "## https://docs.voxel51.com/user_guide/dataset_zoo/datasets.html#dataset-zoo-coco-2017\n",
    "# !rm -rf /root/fiftyone/coco-2017 -R\n",
    "\n",
    "import fiftyone as fo\n",
    "import fiftyone.zoo as foz\n",
    "\n",
    "## To download the COCO dataset for only the \"person\" and \"car\" classes\n",
    "# dataset = foz.load_zoo_dataset(\n",
    "#     \"coco-2017\",\n",
    "#     split=\"train\",\n",
    "#     label_types=[\"detections\", \"segmentations\"],\n",
    "#     classes=[\"person\", \"car\"],\n",
    "#     max_samples=10,\n",
    "# )\n",
    "\n",
    "dataset = fo.zoo.load_zoo_dataset(\n",
    "    \"coco-2017\",\n",
    "    split=\"validation\",\n",
    "    # label_types=[\"detections\", \"segmentations\"],\n",
    "    label_types=[\"detections\"],\n",
    "    classes=[\"person\", \"car\"],\n",
    "    # max_samples=50,\n",
    "    max_samples=15,\n",
    "    seed=20,\n",
    "#     shuffle=True,\n",
    ")\n",
    "\n",
    "# Visualize the dataset in the FiftyOne App\n",
    "# session = fo.launch_app(dataset)"
   ]
  },
  {
   "cell_type": "code",
   "execution_count": 14,
   "metadata": {
    "ExecuteTime": {
     "end_time": "2023-02-16T02:26:46.291128Z",
     "start_time": "2023-02-16T02:25:41.875347Z"
    }
   },
   "outputs": [
    {
     "name": "stdout",
     "output_type": "stream",
     "text": [
      "Downloading split 'validation' to '/root/fiftyone/coco-2017/validation' if necessary\n",
      "Downloading annotations to '/root/fiftyone/coco-2017/tmp-download/annotations_trainval2017.zip'\n",
      " 100% |██████|    1.9Gb/1.9Gb [53.6s elapsed, 0s remaining, 45.6Mb/s]      \n",
      "Extracting annotations to '/root/fiftyone/coco-2017/raw/instances_val2017.json'\n",
      "Downloading 13 images\n",
      " 100% |████████████████████| 13/13 [1.3s elapsed, 0s remaining, 9.8 images/s]       \n",
      "Writing annotations for 13 downloaded samples to '/root/fiftyone/coco-2017/validation/labels.json'\n",
      "Dataset info written to '/root/fiftyone/coco-2017/info.json'\n",
      "Loading 'coco-2017' split 'validation'\n",
      " 100% |███████████████████| 13/13 [124.1ms elapsed, 0s remaining, 104.7 samples/s]    \n",
      "Dataset 'coco-2017-validation-13' created\n"
     ]
    },
    {
     "data": {
      "text/html": [
       "\n",
       "        <iframe\n",
       "            width=\"100%\"\n",
       "            height=\"800\"\n",
       "            src=\"http://0.0.0.0:5151/?notebook=True&subscription=14240d71-f2c5-473f-b7a0-c66e6f099f59\"\n",
       "            frameborder=\"0\"\n",
       "            allowfullscreen\n",
       "        ></iframe>\n",
       "        "
      ],
      "text/plain": [
       "<IPython.lib.display.IFrame at 0x7fe923b1d6a0>"
      ]
     },
     "metadata": {},
     "output_type": "display_data"
    }
   ],
   "source": [
    "## https://docs.voxel51.com/user_guide/dataset_zoo/datasets.html#dataset-zoo-coco-2017\n",
    "\n",
    "import fiftyone as fo\n",
    "import fiftyone.zoo as foz\n",
    "\n",
    "dataset = fo.zoo.load_zoo_dataset(\n",
    "    \"coco-2017\",\n",
    "    split=\"validation\",\n",
    "    # label_types=[\"detections\", \"segmentations\"],\n",
    "    label_types=[\"detections\"],\n",
    "    classes=[\"horse\", \"dog\"],\n",
    "    # max_samples=50,\n",
    "    max_samples=13,\n",
    "    seed=20,\n",
    "#     shuffle=True,\n",
    ")\n",
    "\n",
    "# Visualize the dataset in the FiftyOne App\n",
    "# session = fo.launch_app(dataset)"
   ]
  },
  {
   "cell_type": "code",
   "execution_count": 17,
   "metadata": {
    "ExecuteTime": {
     "end_time": "2023-02-16T02:34:26.397269Z",
     "start_time": "2023-02-16T02:34:23.681894Z"
    }
   },
   "outputs": [
    {
     "name": "stdout",
     "output_type": "stream",
     "text": [
      "Downloading split 'validation' to '/root/fiftyone/coco-2017/validation' if necessary\n",
      "Found annotations at '/root/fiftyone/coco-2017/raw/instances_val2017.json'\n",
      "Downloading 17 images\n",
      " 100% |████████████████████| 17/17 [1.3s elapsed, 0s remaining, 13.1 images/s]      \n",
      "Writing annotations for 17 downloaded samples to '/root/fiftyone/coco-2017/validation/labels.json'\n",
      "Dataset info written to '/root/fiftyone/coco-2017/info.json'\n",
      "Loading existing dataset 'coco-2017-validation-17'. To reload from disk, either delete the existing dataset or provide a custom `dataset_name` to use\n"
     ]
    }
   ],
   "source": [
    "## https://docs.voxel51.com/user_guide/dataset_zoo/datasets.html#dataset-zoo-coco-2017\n",
    "\n",
    "import fiftyone as fo\n",
    "import fiftyone.zoo as foz\n",
    "\n",
    "dataset = fo.zoo.load_zoo_dataset(\n",
    "    \"coco-2017\",\n",
    "    split=\"validation\",\n",
    "    # label_types=[\"detections\", \"segmentations\"],\n",
    "    label_types=[\"detections\"],\n",
    "    classes=[\"bird\", \"cat\"],\n",
    "    # max_samples=50,\n",
    "    max_samples=17,\n",
    "    seed=20,\n",
    "#     shuffle=True,\n",
    ")\n",
    "\n",
    "# Visualize the dataset in the FiftyOne App\n",
    "# session = fo.launch_app(dataset)"
   ]
  },
  {
   "cell_type": "code",
   "execution_count": null,
   "metadata": {},
   "outputs": [],
   "source": [
    "!rm -rf /root/fiftyone/coco-2017 -R"
   ]
  },
  {
   "cell_type": "code",
   "execution_count": 16,
   "metadata": {
    "ExecuteTime": {
     "end_time": "2023-02-16T02:34:16.593632Z",
     "start_time": "2023-02-16T02:34:15.600654Z"
    }
   },
   "outputs": [],
   "source": [
    "!rm -rf /root/fiftyone/coco-2017/validation -R"
   ]
  },
  {
   "cell_type": "code",
   "execution_count": null,
   "metadata": {},
   "outputs": [],
   "source": []
  }
 ],
 "metadata": {
  "kernelspec": {
   "display_name": "Python 3",
   "language": "python",
   "name": "python3"
  },
  "language_info": {
   "codemirror_mode": {
    "name": "ipython",
    "version": 3
   },
   "file_extension": ".py",
   "mimetype": "text/x-python",
   "name": "python",
   "nbconvert_exporter": "python",
   "pygments_lexer": "ipython3",
   "version": "3.8.10"
  },
  "toc": {
   "base_numbering": 1,
   "nav_menu": {},
   "number_sections": false,
   "sideBar": true,
   "skip_h1_title": false,
   "title_cell": "Table of Contents",
   "title_sidebar": "Contents",
   "toc_cell": false,
   "toc_position": {},
   "toc_section_display": true,
   "toc_window_display": false
  },
  "vscode": {
   "interpreter": {
    "hash": "916dbcbb3f70747c44a77c7bcd40155683ae19c65e1c03b4aa3499c5328201f1"
   }
  }
 },
 "nbformat": 4,
 "nbformat_minor": 4
}
